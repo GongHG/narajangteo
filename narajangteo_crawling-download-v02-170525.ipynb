{
 "cells": [
  {
   "cell_type": "markdown",
   "metadata": {},
   "source": [
    "# Korean government bidding information crawling - downloading the files"
   ]
  },
  {
   "cell_type": "code",
   "execution_count": 1,
   "metadata": {
    "collapsed": true
   },
   "outputs": [],
   "source": [
    "import pandas as pd\n",
    "import requests\n",
    "import os\n",
    "import datetime, time\n",
    "import string\n",
    "from time import localtime, strftime\n",
    "from datetime import timedelta\n",
    "from tqdm import tqdm\n",
    "from lxml import html\n",
    "from requests.utils import unquote"
   ]
  },
  {
   "cell_type": "code",
   "execution_count": 2,
   "metadata": {
    "collapsed": true
   },
   "outputs": [],
   "source": [
    "def txt_reader(name):\n",
    "    with open(name+\".txt\",'rb') as f:\n",
    "        line = f.readline()\n",
    "        return line.decode('utf-8').split('/')"
   ]
  },
  {
   "cell_type": "code",
   "execution_count": 3,
   "metadata": {
    "collapsed": false
   },
   "outputs": [],
   "source": [
    "def download_reader(name):\n",
    "    a=[]\n",
    "    f = open(name+\".txt\",'rb').readlines()\n",
    "    for item in f:\n",
    "        b = item.decode('utf-8')\n",
    "        a.append(b[:14])\n",
    "    return a"
   ]
  },
  {
   "cell_type": "code",
   "execution_count": 4,
   "metadata": {
    "collapsed": false
   },
   "outputs": [],
   "source": [
    "download_list = download_reader('download')"
   ]
  },
  {
   "cell_type": "code",
   "execution_count": 10,
   "metadata": {
    "collapsed": false
   },
   "outputs": [],
   "source": [
    "class Full_list_to_download(object):\n",
    "\n",
    "    def get_bidurl(self,bidnum):\n",
    "        num_split = str(bidnum).split(sep='-')\n",
    "        bidno = num_split[0]\n",
    "        if len(bidno) == 11:\n",
    "            bidseq = num_split[-1]\n",
    "            bidurl = \"http://www.g2b.go.kr:8081/ep/invitation/publish/bidInfoDtl.do?bidno=\"+bidno+\"&bidseq=\"+bidseq\n",
    "            return bidurl\n",
    "        else: \n",
    "            return \"Check organization website (공고기관) for details\"\n",
    "        bidseq = refnum_split[-1]\n",
    "        bidurl = \"http://www.g2b.go.kr:8081/ep/invitation/publish/bidInfoDtl.do?bidno=\"+bidno+\"&bidseq=\"+bidseq\n",
    "        return bidurl\n",
    "\n",
    "    def get_urlist(self,download_list):\n",
    "        x=[]\n",
    "        for item in download_list:\n",
    "            x.append(self.get_bidurl(item))\n",
    "        return x\n",
    "    \n",
    "    def get_filelist(self,pagelink):\n",
    "        try:\n",
    "            r=requests.get(pagelink)\n",
    "            tree = html.fromstring(r.content)\n",
    "            file_link = tree.xpath('//*[@class=\"results\"]//table/tbody/tr[*]/td[3]/div/a')\n",
    "            linklist=[]\n",
    "            for links in file_link:\n",
    "                a = links.values()[0]\n",
    "                b = a[a.find(\"(\")+1:].split(',')[0].replace(\"'\",'')\n",
    "                link = \"http://www.g2b.go.kr:8081/ep/co/fileDownload.do?fileTask=NOTIFY&fileSeq=\"+b\n",
    "                name = a[a.find(\",\")+2:a.find(\";\")-2].replace(\"'\",\"\")\n",
    "                linklist.append({'link':link,'name':name})\n",
    "        except: \n",
    "            linklist = None\n",
    "        return linklist\n",
    "\n",
    "    def final_list(self,download_list):\n",
    "        urlist = self.get_urlist(download_list)\n",
    "        fullist = []\n",
    "        for item in urlist:\n",
    "            files = self.get_filelist(item)\n",
    "            budnum = item[item.find('=')+1:item.find('=')+12]+\"-\"+item[item.find('&')+8:]\n",
    "            fullist.append([budnum,files])\n",
    "        return fullist"
   ]
  },
  {
   "cell_type": "code",
   "execution_count": 11,
   "metadata": {
    "collapsed": true
   },
   "outputs": [],
   "source": [
    "lets = Full_list_to_download()"
   ]
  },
  {
   "cell_type": "code",
   "execution_count": 12,
   "metadata": {
    "collapsed": false,
    "scrolled": true
   },
   "outputs": [],
   "source": [
    "finallist = lets.final_list(download_list)"
   ]
  },
  {
   "cell_type": "code",
   "execution_count": 13,
   "metadata": {
    "collapsed": false
   },
   "outputs": [
    {
     "data": {
      "text/plain": [
       "[['Check organ-rganization website (공고기관) for details', None],\n",
       " ['Check organ-rganization website (공고기관) for details', None],\n",
       " ['20170529625-00',\n",
       "  [{'link': 'http://www.g2b.go.kr:8081/ep/co/fileDownload.do?fileTask=NOTIFY&fileSeq=20170529625::00::1::1',\n",
       "    'name': '20170529625-00_1495697603061_2017년 공군, 해병 출타용가방 구매 공고서.hwp'},\n",
       "   {'link': 'http://www.g2b.go.kr:8081/ep/co/fileDownload.do?fileTask=NOTIFY&fileSeq=20170529625::00::2::2',\n",
       "    'name': '20170529625-00_1495697603065_구매요구서(출타용 가방)(공군).hwp'},\n",
       "   {'link': 'http://www.g2b.go.kr:8081/ep/co/fileDownload.do?fileTask=NOTIFY&fileSeq=20170529625::00::2::3',\n",
       "    'name': '20170529625-00_1495697603066_구매요구서(출타용가방)(해병).hwp'},\n",
       "   {'link': 'http://www.g2b.go.kr:8081/ep/co/fileDownload.do?fileTask=NOTIFY&fileSeq=20170529625::00::2::4',\n",
       "    'name': '20170529625-00_1495697603068_납품안내문 및 물품납품 영수증(0).hwp'}]]]"
      ]
     },
     "execution_count": 13,
     "metadata": {},
     "output_type": "execute_result"
    }
   ],
   "source": [
    "finallist"
   ]
  },
  {
   "cell_type": "code",
   "execution_count": 14,
   "metadata": {
    "collapsed": true
   },
   "outputs": [],
   "source": [
    "#Function to download all the files. \n",
    "#Source https://github.com/cochoa0x1/mailgunbot/blob/master/mailgunbot/utils.py\n",
    "def download_file(url,filename=None,chunk_size=512, directory=os.getcwd(), total_size=None, do_not_replace=False):\n",
    "\n",
    "    if url == None:\n",
    "        # print('No files uploaded for %s'%filename)\n",
    "        return\n",
    "    #if no filename is given, try and get it from the url\n",
    "    if not filename: \n",
    "        filename = unquote(url.split('/')[-1]).split('.')[0]\n",
    "    #extension = \".%s\"%unquote(url.split('.')[-1])\n",
    "        \n",
    "    full_name = os.path.join(directory,filename)\n",
    "    \n",
    "    #make the destination directory, but guard against race condition\n",
    "    if not os.path.exists(os.path.dirname(full_name)):\n",
    "        try:\n",
    "            os.makedirs(os.path.dirname(full_name))\n",
    "        except OSError as exc: \n",
    "            print(os.path.dirname(full_name))\n",
    "            raise Exception('something failed')\n",
    "\n",
    "    if os.path.exists(full_name) and do_not_replace:\n",
    "        return\n",
    "\n",
    "    r = requests.get(url, stream=True)\n",
    "    print(\"Downloading %s...\"%filename)\n",
    "\n",
    "    rh = requests.head(url, stream=True)\n",
    "    total_size = float(rh.headers.get('Content-Length',total_size))\n",
    "    n_iter = int(total_size/chunk_size)+1\n",
    "\n",
    "    with open(full_name, 'wb') as f:\n",
    "        for chunk in tqdm(r.iter_content(chunk_size=chunk_size), total=n_iter) : \n",
    "            if chunk: # filter out keep-alive new chunks\n",
    "                f.write(chunk)\n",
    "                f.flush()\n",
    "    r.close()"
   ]
  },
  {
   "cell_type": "code",
   "execution_count": 18,
   "metadata": {
    "collapsed": false
   },
   "outputs": [
    {
     "name": "stdout",
     "output_type": "stream",
     "text": [
      "Downloading files for id no. Check organ-rganization website (공고기관) for details\n",
      "Please check organization website to access files. \n",
      "Downloading files for id no. Check organ-rganization website (공고기관) for details\n",
      "Please check organization website to access files. \n",
      "Downloading files for id no. 20170529625-00\n"
     ]
    }
   ],
   "source": [
    "for item in finallist:\n",
    "    idno = item[0]\n",
    "    try:\n",
    "        print(\"Downloading files for id no. %s\"%item[0])\n",
    "        for files in item[1]:\n",
    "            file_name = files['name']\n",
    "            directory_for_files = os.path.join('.','attachment_files',\"selected_RFPs-\"+strftime(\"%y%m%d\"),idno)\n",
    "            download_file(files['link'],filename=file_name,directory=directory_for_files, do_not_replace=True)\n",
    "    except:\n",
    "        print(\"Please check organization website to access files. \")\n",
    "        None"
   ]
  },
  {
   "cell_type": "code",
   "execution_count": null,
   "metadata": {
    "collapsed": true
   },
   "outputs": [],
   "source": []
  }
 ],
 "metadata": {
  "anaconda-cloud": {},
  "kernelspec": {
   "display_name": "Python 3",
   "language": "python",
   "name": "python3"
  },
  "language_info": {
   "codemirror_mode": {
    "name": "ipython",
    "version": 3
   },
   "file_extension": ".py",
   "mimetype": "text/x-python",
   "name": "python",
   "nbconvert_exporter": "python",
   "pygments_lexer": "ipython3",
   "version": "3.6.0"
  }
 },
 "nbformat": 4,
 "nbformat_minor": 1
}
