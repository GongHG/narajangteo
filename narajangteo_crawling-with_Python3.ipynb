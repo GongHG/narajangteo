{
 "cells": [
  {
   "cell_type": "code",
   "execution_count": 12,
   "metadata": {
    "collapsed": true
   },
   "outputs": [],
   "source": [
    "import pandas as pd\n",
    "import requests\n",
    "import os\n",
    "import datetime, time\n",
    "import string\n",
    "from time import localtime, strftime\n",
    "from datetime import timedelta\n",
    "from tqdm import tqdm"
   ]
  },
  {
   "cell_type": "code",
   "execution_count": 2,
   "metadata": {
    "collapsed": false
   },
   "outputs": [],
   "source": [
    "class KoreaPageScraper(object):\n",
    "    def __init__(self):\n",
    "        pass\n",
    "    \n",
    "    def request_url(self,cat):\n",
    "        '''returns url for a  category'''\n",
    "        d = datetime.date.today()\n",
    "        fromtd = d - timedelta(days=7)\n",
    "        start_date = str(fromtd.strftime(\"%Y/%m/%d\"))\n",
    "        end_date =str(d.strftime(\"%Y/%m/%d\"))\n",
    "        fromBidDt = requests.utils.quote(start_date, safe='')\n",
    "        toBidDt = requests.utils.quote(end_date, safe='')\n",
    "        bidNm = requests.utils.quote(cat.encode('euc-kr'))\n",
    "        url = \"http://www.g2b.go.kr:8101/ep/tbid/tbidList.do?taskClCds=&bidNm=\" + bidNm + \"&searchDtType=1&fromBidDt=\" + fromBidDt + \"&toBidDt=\" + toBidDt + \"&fromOpenBidDt=&toOpenBidDt=&radOrgan=1&instNm=&exceptEnd=Y&area=&regYn=Y&bidSearchType=1&searchType=1&recordCountPerPage=1000\"\n",
    "        return url\n",
    "\n",
    "    def scrape_cat(self,cat):\n",
    "        cat_url = self.request_url(cat)\n",
    "        df = pd.read_html(cat_url)[0]\n",
    "        df['search_term']=cat\n",
    "        return df\n",
    "    \n",
    "    def get_bidurl(self,bidnum):\n",
    "        num_split = str(bidnum).split(sep='-')\n",
    "        bidno = num_split[0]\n",
    "        if len(bidno) == 11:\n",
    "            bidseq = num_split[-1]\n",
    "            bidurl = \"http://www.g2b.go.kr:8081/ep/invitation/publish/bidInfoDtl.do?bidno=\"+bidno+\"&bidseq=\"+bidseq\n",
    "            return bidurl\n",
    "        else: \n",
    "            return \"Check organization website (공고기관) for details\"\n",
    "        bidseq = refnum_split[-1]\n",
    "        bidurl = \"http://www.g2b.go.kr:8081/ep/invitation/publish/bidInfoDtl.do?bidno=\"+bidno+\"&bidseq=\"+bidseq\n",
    "        return bidurl\n",
    "\n",
    "    def scrape_categories(self, categories):\n",
    "        #add a slight delay betweeen scrapes: time.sleep(1)\n",
    "        appended_df = []\n",
    "        for category in tqdm(categories):\n",
    "            one_df = self.scrape_cat(category)\n",
    "            appended_df.append(one_df)\n",
    "            time.sleep(1)\n",
    "        appended_df = pd.concat(appended_df, axis = 0)\n",
    "        urlist=[]\n",
    "        for index,row in appended_df.iterrows():\n",
    "            urlist.append(self.get_bidurl(row['공고번호-차수']))\n",
    "        appended_df['url']=urlist\n",
    "        return appended_df"
   ]
  },
  {
   "cell_type": "code",
   "execution_count": 3,
   "metadata": {
    "collapsed": true
   },
   "outputs": [],
   "source": [
    "def txt_reader(name):\n",
    "    with open(name+\".txt\",'rb') as f:\n",
    "        line = f.readline()\n",
    "        return line.decode('utf-8').split('/')"
   ]
  },
  {
   "cell_type": "code",
   "execution_count": 4,
   "metadata": {
    "collapsed": false
   },
   "outputs": [
    {
     "name": "stderr",
     "output_type": "stream",
     "text": [
      "100%|██████████████████████████████████████████████████████████████████████████████████████| 4/4 [00:13<00:00,  3.89s/it]\n"
     ]
    }
   ],
   "source": [
    "#load the categories\n",
    "category_list = txt_reader('category')\n",
    "\n",
    "#scrape!\n",
    "myscraper = KoreaPageScraper()\n",
    "\n",
    "df = myscraper.scrape_categories(category_list)"
   ]
  },
  {
   "cell_type": "code",
   "execution_count": 5,
   "metadata": {
    "collapsed": false
   },
   "outputs": [],
   "source": [
    "def clean_up(df):\n",
    "    #Delete duplicates (more than two keywords together)\n",
    "    df = df[~df.duplicated(['공고명'])].copy()\n",
    "    #Divide the register date and due date\n",
    "    df['register_date'],df['duedate'] = df['입력일시(입찰마감일시)'].str.split('(', 1).str\n",
    "    df['duedate']=df['duedate'].str.replace(')','').replace('-','')\n",
    "    df = df.drop('입력일시(입찰마감일시)',axis=1)\n",
    "    df = df.sort_values(by='duedate',ascending=False)\n",
    "    return df"
   ]
  },
  {
   "cell_type": "code",
   "execution_count": 6,
   "metadata": {
    "collapsed": false
   },
   "outputs": [],
   "source": [
    "def filter_prioritize(df,filter_list,column):\n",
    "    new_df = df[df[column].isin(filter_list)].copy()\n",
    "    new_df[str(column+\"_sorted\")] = pd.Categorical(new_df[column],categories=filter_list,ordered=True)\n",
    "    new_df = new_df.sort_values(column+\"_sorted\")\n",
    "    return new_df"
   ]
  },
  {
   "cell_type": "code",
   "execution_count": 7,
   "metadata": {
    "collapsed": false
   },
   "outputs": [],
   "source": [
    "def to_excel(df,subtitle):\n",
    "    #Next step, format the excel file\n",
    "    print(\"saving the \"+subtitle+\" list...\")\n",
    "    docname = \"RMS-나라장터_입찰공고-\"+subtitle+\"-\"+str(strftime(\"%y%m%d(%H%M%S)\", localtime()))+\".xlsx\"\n",
    "    writer = pd.ExcelWriter(docname)\n",
    "    df.to_excel(writer,index=False,sheet_name='Sheet1')\n",
    "    workbook  = writer.book\n",
    "    worksheet = writer.sheets['Sheet1']\n",
    "\n",
    "    # Set the column width and format.\n",
    "    columns=['A:A','B:B','D:D','H:H','L:L','M:M']\n",
    "    widths=[4,15,60,8,15,15]\n",
    "    for c,w in zip(columns,widths):\n",
    "        worksheet.set_column(c, w)\n",
    "\n",
    "    #Formatting for putting in the header titles\n",
    "    table_headers = [{'header':c} for c in  df.columns]\n",
    "    #Getting the last column\n",
    "    lastcol = list(string.ascii_uppercase)[len(df.columns)-1]\n",
    "\n",
    "    worksheet.add_table('A1:%c%d'%(lastcol,len(df)+1),{'columns' : table_headers})\n",
    "    writer.save()\n",
    "    return"
   ]
  },
  {
   "cell_type": "code",
   "execution_count": 8,
   "metadata": {
    "collapsed": false
   },
   "outputs": [],
   "source": [
    "clean_df = clean_up(df)"
   ]
  },
  {
   "cell_type": "code",
   "execution_count": 9,
   "metadata": {
    "collapsed": true
   },
   "outputs": [],
   "source": [
    "#Get the target organization list\n",
    "org_list = txt_reader('orgs')"
   ]
  },
  {
   "cell_type": "code",
   "execution_count": 10,
   "metadata": {
    "collapsed": true
   },
   "outputs": [],
   "source": [
    "org_df = filter_prioritize(clean_df,org_list,'공고기관')"
   ]
  },
  {
   "cell_type": "code",
   "execution_count": 15,
   "metadata": {
    "collapsed": false
   },
   "outputs": [
    {
     "name": "stdout",
     "output_type": "stream",
     "text": [
      "saving the all list...\n"
     ]
    }
   ],
   "source": [
    "to_excel(clean_df,'all')"
   ]
  },
  {
   "cell_type": "code",
   "execution_count": 13,
   "metadata": {
    "collapsed": false
   },
   "outputs": [
    {
     "name": "stdout",
     "output_type": "stream",
     "text": [
      "saving the orgs list...\n"
     ]
    }
   ],
   "source": [
    "to_excel(org_df,'orgs')"
   ]
  },
  {
   "cell_type": "code",
   "execution_count": 14,
   "metadata": {
    "collapsed": false
   },
   "outputs": [
    {
     "name": "stdout",
     "output_type": "stream",
     "text": [
      "All done! Please hit Enter to exit this command prompt. \n",
      "\n"
     ]
    },
    {
     "data": {
      "text/plain": [
       "''"
      ]
     },
     "execution_count": 14,
     "metadata": {},
     "output_type": "execute_result"
    }
   ],
   "source": [
    "print ('All done! Please hit Enter to exit this command prompt. ')\n",
    "input()"
   ]
  },
  {
   "cell_type": "code",
   "execution_count": null,
   "metadata": {
    "collapsed": true
   },
   "outputs": [],
   "source": []
  }
 ],
 "metadata": {
  "anaconda-cloud": {},
  "kernelspec": {
   "display_name": "Python 3",
   "language": "python",
   "name": "python3"
  },
  "language_info": {
   "codemirror_mode": {
    "name": "ipython",
    "version": 3
   },
   "file_extension": ".py",
   "mimetype": "text/x-python",
   "name": "python",
   "nbconvert_exporter": "python",
   "pygments_lexer": "ipython3",
   "version": "3.6.0"
  }
 },
 "nbformat": 4,
 "nbformat_minor": 1
}
