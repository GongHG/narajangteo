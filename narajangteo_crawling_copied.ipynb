{
 "cells": [
  {
   "cell_type": "code",
   "execution_count": 1,
   "metadata": {
    "collapsed": false
   },
   "outputs": [
    {
     "ename": "NameError",
     "evalue": "name 'reload' is not defined",
     "output_type": "error",
     "traceback": [
      "\u001b[0;31m---------------------------------------------------------------------------\u001b[0m",
      "\u001b[0;31mNameError\u001b[0m                                 Traceback (most recent call last)",
      "\u001b[0;32m<ipython-input-1-782c1bafa0b4>\u001b[0m in \u001b[0;36m<module>\u001b[0;34m()\u001b[0m\n\u001b[1;32m      1\u001b[0m \u001b[1;32mimport\u001b[0m \u001b[0msys\u001b[0m\u001b[1;33m\u001b[0m\u001b[0m\n\u001b[0;32m----> 2\u001b[0;31m \u001b[0mreload\u001b[0m\u001b[1;33m(\u001b[0m\u001b[0msys\u001b[0m\u001b[1;33m)\u001b[0m\u001b[1;33m\u001b[0m\u001b[0m\n\u001b[0m\u001b[1;32m      3\u001b[0m \u001b[0msys\u001b[0m\u001b[1;33m.\u001b[0m\u001b[0msetdefaultencoding\u001b[0m\u001b[1;33m(\u001b[0m\u001b[1;34m'utf-8'\u001b[0m\u001b[1;33m)\u001b[0m\u001b[1;33m\u001b[0m\u001b[0m\n",
      "\u001b[0;31mNameError\u001b[0m: name 'reload' is not defined"
     ]
    }
   ],
   "source": [
    "import sys\n",
    "reload(sys)\n",
    "sys.setdefaultencoding('utf-8')"
   ]
  },
  {
   "cell_type": "code",
   "execution_count": null,
   "metadata": {
    "collapsed": true
   },
   "outputs": [],
   "source": [
    "from bs4 import BeautifulSoup"
   ]
  },
  {
   "cell_type": "code",
   "execution_count": null,
   "metadata": {
    "collapsed": true
   },
   "outputs": [],
   "source": [
    "import os\n",
    "import datetime, time\n",
    "from time import localtime, strftime\n",
    "from datetime import timedelta"
   ]
  },
  {
   "cell_type": "code",
   "execution_count": null,
   "metadata": {
    "collapsed": true
   },
   "outputs": [],
   "source": [
    "import urllib2"
   ]
  },
  {
   "cell_type": "code",
   "execution_count": null,
   "metadata": {
    "collapsed": true
   },
   "outputs": [],
   "source": [
    "import xlwt"
   ]
  },
  {
   "cell_type": "code",
   "execution_count": null,
   "metadata": {
    "collapsed": false
   },
   "outputs": [],
   "source": [
    "with open(\"category.txt\",'rb') as f:\n",
    "    line = f.readline()\n",
    "    category_list = line.split(\"/\")"
   ]
  },
  {
   "cell_type": "code",
   "execution_count": null,
   "metadata": {
    "collapsed": true
   },
   "outputs": [],
   "source": [
    "d = datetime.date.today()\n",
    "td = timedelta(days=7)"
   ]
  },
  {
   "cell_type": "code",
   "execution_count": null,
   "metadata": {
    "collapsed": true
   },
   "outputs": [],
   "source": [
    "fromtd = d - td"
   ]
  },
  {
   "cell_type": "code",
   "execution_count": null,
   "metadata": {
    "collapsed": true
   },
   "outputs": [],
   "source": [
    "fromBidDt = \"20\" + str(fromtd.strftime(\"%y/%m/%d\"))"
   ]
  },
  {
   "cell_type": "code",
   "execution_count": null,
   "metadata": {
    "collapsed": false
   },
   "outputs": [],
   "source": [
    "toBidDt=\"20\"+str(d.strftime(\"%y/%m/%d\"))"
   ]
  },
  {
   "cell_type": "code",
   "execution_count": null,
   "metadata": {
    "collapsed": true
   },
   "outputs": [],
   "source": [
    "doc_name = str(strftime(\"%y-%m-%d_%H%M%S\", localtime()))"
   ]
  },
  {
   "cell_type": "code",
   "execution_count": null,
   "metadata": {
    "collapsed": true
   },
   "outputs": [],
   "source": []
  },
  {
   "cell_type": "code",
   "execution_count": null,
   "metadata": {
    "collapsed": false,
    "scrolled": true
   },
   "outputs": [],
   "source": [
    "for category in category_list:\n",
    "#Set excel\n",
    "    workbook = xlwt.Workbook(encoding='utf-8')\n",
    "    workbook.default_style.font.height = 20*11\n",
    "    \n",
    "    #사용자 정의 색깔 설정\n",
    "    xlwt.add_palette_colour(\"lightgray\",0x21)\n",
    "    workbook.set_colour_RGB(0x21, 216, 216, 216)\n",
    "    xlwt.add_palette_colour(\"lightgreen\",0x22)\n",
    "    workbook.set_colour_RGB(0x22,216,228,188)\n",
    "    \n",
    "    #시트 생성 및 cell 가로 길이 설정\n",
    "    worksheet = workbook.add_sheet(u'시트0')\n",
    "    col_width_0 = 256*13\n",
    "    col_width_1 = 256*13\n",
    "    col_width_2 = 256*21\n",
    "    col_width_3 = 256*13\n",
    "    col_width_4 = 256*13\n",
    "    col_width_5 = 256*15\n",
    "    col_width_6 = 256*16\n",
    "    col_width_7 = 256*14\n",
    "    col_width_8 = 256*13\n",
    "    col_width_9 = 256*13\n",
    "    col_width_10 = 256*23\n",
    "    col_height_content = 48\n",
    "    worksheet.col(0).width = col_width_0\n",
    "    worksheet.col(1).width = col_width_1\n",
    "    worksheet.col(2).width = col_width_2\n",
    "    worksheet.col(3).width = col_width_3\n",
    "    worksheet.col(4).width = col_width_4\n",
    "    worksheet.col(5).width = col_width_5\n",
    "    worksheet.col(6).width = col_width_6\n",
    "    worksheet.col(7).width = col_width_7\n",
    "    worksheet.col(8).width = col_width_8\n",
    "    worksheet.col(9).width = col_width_9\n",
    "    worksheet.col(10).width = col_width_10\n",
    "    \n",
    "    #폰트 스타일 생성\n",
    "    #font_set = \"font: name \"+u\"맑은 고딕\" +\", height 280;\";\n",
    "    #font_style = xlwt.easyxf(font_set)  \n",
    "    #worksheet.row(0).set_style(font_style)         #줄에 폰트 스타일 설정\n",
    "    \n",
    "    # 항목 스타일 설정\n",
    "    list_style = \"font:height 180,bold on; pattern: pattern solid, fore_color lightgray; align: wrap on, vert centre, horiz center\"\n",
    "    #content_style_normal = \"font:height 180; align:wrap on, vert centre\"\n",
    "    #content_style_center = \"font:height 180; align:wrap on, vert centre, horiz center\"\n",
    "    \n",
    "    #엑셀에 항목 입력\n",
    "    worksheet.write(0,0,u\"Date\",xlwt.easyxf(list_style))\n",
    "    worksheet.write(0,1,u\"업무\", xlwt.easyxf(\"font:height 180, bold on;pattern: pattern solid, fore_color lightgreen; align:vert centre, horiz center\"))\n",
    "    worksheet.write(0,2,u\"공고번호-차수\", xlwt.easyxf(list_style))\n",
    "    worksheet.write(0,3,u\"분류\", xlwt.easyxf(list_style))\n",
    "    worksheet.write(0,4,u\"공고명\", xlwt.easyxf(list_style))\n",
    "    worksheet.write(0,5,u\"공고기관\", xlwt.easyxf(list_style))\n",
    "    worksheet.write(0,6,u\"수요기관\", xlwt.easyxf(list_style))\n",
    "    worksheet.write(0,7,u\"계약방법\", xlwt.easyxf(list_style))\n",
    "    worksheet.write(0,8,u\"임력일시\\n(마감일시)\", xlwt.easyxf(list_style))\n",
    "    worksheet.write(0,9,u\"공동수급\", xlwt.easyxf(list_style))\n",
    "    worksheet.write(0,10,u\"투찰\", xlwt.easyxf(list_style))\n",
    "    \n",
    "    #non-formatting stuff\n",
    "    bidNm = category\n",
    "    print \"[\" + bidNm + \"]검색중...\"\n",
    "    bidNm = urllib2.quote(category.encode('euc-kr'))\n",
    "    instNm = \"\"\n",
    "    radOrgan = 1\n",
    "    fromOpenBidDt = \"\";\n",
    "    toOpenBidDt = \"\";\n",
    "    bidno=\"\";\n",
    "    urlString = \"http://www.g2b.go.kr:8101/ep/tbid/tbidList.do?taskClCds=&bidNm=\" + bidNm + \"&searchDtType=1&fromBidDt=\" + fromBidDt + \"&toBidDt=\" + toBidDt + \"&fromOpenBidDt=\" + fromOpenBidDt + \"&toOpenBidDt=\" + toOpenBidDt + \"&radOrgan=\" + str(radOrgan) + \"&instNm=\"+instNm + \"&area=&regYn=Y&bidSearchType=1&searchType=1\"\n",
    "    #print urlString\n",
    "    body = urllib2.urlopen(urlString)\n",
    "    soup = BeautifulSoup(body)\n",
    "    parse_tr = soup.find_all('table')[0]\n",
    "    row_marker = 0\n",
    "    column_marker = 0\n",
    "    \n",
    "    for row in parse_tr.find_all('tr'):\n",
    "      column_marker = 0\n",
    "      columns = row.find_all('td')\n",
    "      \n",
    "      for column in columns:\n",
    "         tmpstr = column.get_text()\n",
    "         string =  tmpstr\n",
    "         worksheet.write(row_marker+1,column_marker+1,unicode(string))\n",
    "         column_marker += 1\n",
    "      if len(columns) > 0:\n",
    "       row_marker += 1\n",
    "    \n",
    "    workbook.save(os.path.join(os.path.abspath(\".\"), doc_name + category + u\"_나라장터.xls\"))\n",
    "    "
   ]
  },
  {
   "cell_type": "code",
   "execution_count": null,
   "metadata": {
    "collapsed": true
   },
   "outputs": [],
   "source": []
  }
 ],
 "metadata": {
  "anaconda-cloud": {},
  "kernelspec": {
   "display_name": "Python 3",
   "language": "python",
   "name": "python3"
  },
  "language_info": {
   "codemirror_mode": {
    "name": "ipython",
    "version": 3
   },
   "file_extension": ".py",
   "mimetype": "text/x-python",
   "name": "python",
   "nbconvert_exporter": "python",
   "pygments_lexer": "ipython3",
   "version": "3.6.0"
  }
 },
 "nbformat": 4,
 "nbformat_minor": 1
}
